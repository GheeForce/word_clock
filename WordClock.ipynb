{
 "cells": [
  {
   "cell_type": "markdown",
   "metadata": {},
   "source": [
    "# Word Clock \n",
    "\n",
    "### Definitions\n",
    "\n",
    "1 = **EIN**  \n",
    "2 = **ZWEI**  \n",
    "3 = **DREI**  \n",
    "4 = **VIER**  \n",
    "5 = **FÜNF**  \n",
    "6 = **SECHS**  \n",
    "7 = **SIEBEN**  \n",
    "8 = **ACHT**  \n",
    "9 = **NEUEN**  \n",
    "10 = **ZEHN**  \n",
    "  \n",
    "it is = **ES IST**\n",
    "\n",
    "o'clock = **UHR**  \n",
    "5 past = **FÜNF NACH HOUR**  \n",
    "10 past = **ZEHN NACH HOUR**  \n",
    "quarter past = **VIERTEL NACH HOUR**  \n",
    "20 past = **ZEHN VOR HALB HOUR + 1**  \n",
    "25 past = **FÜNF VOR HALB HOUR + 1**  \n",
    "half past = **HALB HOUR + 1**  \n",
    "25 to = **FÜNF NACH HALB HOUR + 1**  \n",
    "20 to = **ZEHN NACH HALB + 1**  \n",
    "quarter to = **VIERTEL VOR HOUR + 1**  \n",
    "10 to = **ZEHN VOR HOUR + 1**  \n",
    "5 to = **FÜNF VOR HOUR + 1**  "
   ]
  },
  {
   "cell_type": "code",
   "execution_count": 8,
   "metadata": {},
   "outputs": [],
   "source": [
    "import time"
   ]
  },
  {
   "cell_type": "code",
   "execution_count": 9,
   "metadata": {},
   "outputs": [
    {
     "name": "stdout",
     "output_type": "stream",
     "text": [
      "Hour = 15\n",
      "Minutes = 42\n",
      "Seconds = 53\n"
     ]
    }
   ],
   "source": [
    "secs = time.time()\n",
    "local = time.localtime(secs)\n",
    "\n",
    "hour = local.tm_hour\n",
    "minute = local.tm_min\n",
    "second = local.tm_sec\n",
    "\n",
    "print(\"Hour = {}\".format(hour))\n",
    "print(\"Minutes = {}\".format(minute))\n",
    "print(\"Seconds = {}\".format(second))"
   ]
  },
  {
   "cell_type": "markdown",
   "metadata": {},
   "source": [
    "#### Corner Lights - Individual minutes"
   ]
  },
  {
   "cell_type": "code",
   "execution_count": 3,
   "metadata": {},
   "outputs": [],
   "source": [
    "def cornerlights(minute):\n",
    "\n",
    "    if minute % 5 == 0:\n",
    "        ## NO LEDs LIT ##\n",
    "        return \"CORNER LIGHTS OFF\"\n",
    "    elif minute % 5 == 1:\n",
    "        ## LED 0 LIT ##\n",
    "        return \"CORNER LIGHT ONE ON!\"\n",
    "    elif minute % 5 == 2:\n",
    "        ## LED 1 LIT ##\n",
    "        return \"CORNER LIGHT TWO ON!\"\n",
    "    elif minute % 5 == 3:\n",
    "        ## LED 2 LIT ##\n",
    "        return \"CORNER LIGHT THREE ON!\"\n",
    "    elif minute % 5 == 4:\n",
    "        ## LED 3 LIT ##\n",
    "        return \"CORNER LIGHT FOUR ON!\""
   ]
  },
  {
   "cell_type": "code",
   "execution_count": null,
   "metadata": {},
   "outputs": [],
   "source": [
    "cornerlights(45)"
   ]
  },
  {
   "cell_type": "markdown",
   "metadata": {},
   "source": [
    "#### Simulate Corner Lights"
   ]
  },
  {
   "cell_type": "code",
   "execution_count": 4,
   "metadata": {},
   "outputs": [
    {
     "name": "stdout",
     "output_type": "stream",
     "text": [
      "CORNER LIGHTS OFF\n"
     ]
    },
    {
     "ename": "KeyboardInterrupt",
     "evalue": "",
     "output_type": "error",
     "traceback": [
      "\u001b[1;31m---------------------------------------------------------------------------\u001b[0m",
      "\u001b[1;31mKeyboardInterrupt\u001b[0m                         Traceback (most recent call last)",
      "\u001b[1;32m<ipython-input-4-cc3fb5c98307>\u001b[0m in \u001b[0;36m<module>\u001b[1;34m\u001b[0m\n\u001b[0;32m      7\u001b[0m \u001b[1;32mwhile\u001b[0m \u001b[1;32mTrue\u001b[0m\u001b[1;33m:\u001b[0m\u001b[1;33m\u001b[0m\u001b[1;33m\u001b[0m\u001b[0m\n\u001b[0;32m      8\u001b[0m     \u001b[0msecs\u001b[0m \u001b[1;33m=\u001b[0m \u001b[0mtime\u001b[0m\u001b[1;33m.\u001b[0m\u001b[0mtime\u001b[0m\u001b[1;33m(\u001b[0m\u001b[1;33m)\u001b[0m\u001b[1;33m\u001b[0m\u001b[1;33m\u001b[0m\u001b[0m\n\u001b[1;32m----> 9\u001b[1;33m     \u001b[0mlocal\u001b[0m \u001b[1;33m=\u001b[0m \u001b[0mtime\u001b[0m\u001b[1;33m.\u001b[0m\u001b[0mlocaltime\u001b[0m\u001b[1;33m(\u001b[0m\u001b[0msecs\u001b[0m\u001b[1;33m)\u001b[0m\u001b[1;33m\u001b[0m\u001b[1;33m\u001b[0m\u001b[0m\n\u001b[0m\u001b[0;32m     10\u001b[0m     \u001b[0mnew_status\u001b[0m \u001b[1;33m=\u001b[0m \u001b[0mcornerlights\u001b[0m\u001b[1;33m(\u001b[0m\u001b[0mlocal\u001b[0m\u001b[1;33m.\u001b[0m\u001b[0mtm_min\u001b[0m\u001b[1;33m)\u001b[0m\u001b[1;33m\u001b[0m\u001b[1;33m\u001b[0m\u001b[0m\n\u001b[0;32m     11\u001b[0m \u001b[1;33m\u001b[0m\u001b[0m\n",
      "\u001b[1;31mKeyboardInterrupt\u001b[0m: "
     ]
    }
   ],
   "source": [
    "secs = time.time()\n",
    "local = time.localtime(secs)\n",
    "\n",
    "status = cornerlights(local.tm_min)\n",
    "print(status)\n",
    "\n",
    "while True:\n",
    "    secs = time.time()\n",
    "    local = time.localtime(secs)\n",
    "    new_status = cornerlights(local.tm_min)\n",
    "\n",
    "    if status != new_status:\n",
    "        status = new_status\n",
    "        print(status)\n",
    "        \n",
    "        \n",
    "    "
   ]
  },
  {
   "cell_type": "markdown",
   "metadata": {},
   "source": [
    "#### Hours to Words"
   ]
  },
  {
   "cell_type": "code",
   "execution_count": 36,
   "metadata": {},
   "outputs": [],
   "source": [
    "def word_hours(hrs, minute):\n",
    "    \n",
    "    if minute >= 20:\n",
    "        hrs += 1\n",
    "    \n",
    "    if hrs == 1 or hrs == 13:\n",
    "        ## LEDs\n",
    "        return \"EIN\"\n",
    "    elif hrs == 2 or hrs == 14:\n",
    "        return \"ZWEI\"\n",
    "    elif hrs == 3 or hrs == 15:\n",
    "        return \"DREI\"\n",
    "    elif hrs == 4 or hrs == 16:\n",
    "        return \"VIER\"\n",
    "    elif hrs == 5 or hrs == 17:\n",
    "        return \"FUNF\"\n",
    "    elif hrs == 6 or hrs == 18:\n",
    "        return \"SECHS\"\n",
    "    elif hrs == 7 or hrs == 19:\n",
    "        return \"SIEBEN\"\n",
    "    elif hrs == 8 or hrs == 20:\n",
    "        return \"ACHT\"\n",
    "    elif hrs == 9 or hrs == 21:\n",
    "        return \"NEUEN\"\n",
    "    elif hrs == 10 or hrs == 22:\n",
    "        return \"ZEHN\"\n",
    "    elif hrs == 11 or hrs == 23:\n",
    "        return \"ELF\"\n",
    "    elif hrs == 12 or hrs == 0:\n",
    "        return \"ZWOLF\""
   ]
  },
  {
   "cell_type": "markdown",
   "metadata": {},
   "source": [
    "#### Minutes to Word Description"
   ]
  },
  {
   "cell_type": "code",
   "execution_count": 22,
   "metadata": {},
   "outputs": [],
   "source": [
    "def word_minutes(min):\n",
    "    \n",
    "    if (min >= 0) and (min < 5):\n",
    "        return \"UHR\"\n",
    "    elif (min >= 5) and (min < 10) :\n",
    "        return \"FUNF NACH\"\n",
    "    elif (min >= 10) and (min < 15):\n",
    "        return \"ZEHN NACH\"\n",
    "    elif (min >= 15) and (min < 20):\n",
    "        return \"VIERTEL NACH\"\n",
    "    elif (min >= 20) and (min < 25):\n",
    "        return \"ZEHN VOR HALB\"\n",
    "    elif (min >= 25) and (min < 30):\n",
    "        return \"FUNF VOR HALB\"      \n",
    "    elif (min >= 30) and (min < 35):\n",
    "        return \"HALB\"\n",
    "    elif (min >= 35) and (min < 40):\n",
    "        return \"FUNF NACH HALB\"\n",
    "    elif (min >= 40) and (min < 45):\n",
    "        return \"ZEHN NACH HALB\"\n",
    "    elif (min >= 45) and (min < 50):\n",
    "        return \"VIERTEL VOR\"\n",
    "    elif (min >= 50) and (min < 55):\n",
    "        return \"ZEHN VOR\"\n",
    "    elif (min >= 55) and (min < 60):\n",
    "        return \"FUNF VOR\""
   ]
  },
  {
   "cell_type": "markdown",
   "metadata": {},
   "source": [
    "#### Word Clock Simulation"
   ]
  },
  {
   "cell_type": "code",
   "execution_count": null,
   "metadata": {},
   "outputs": [],
   "source": [
    "secs = time.time()\n",
    "local = time.localtime(secs)\n",
    "\n",
    "intro = 'ES IST' # LEDs 4,5, 7,8,9\n",
    "\n",
    "min_indv = cornerlights(local.tm_min)\n",
    "min_word = word_minutes(local.tm_min)\n",
    "hour_word = word_hours(local.tm_hour,local.tm_min)\n",
    "\n",
    "print(\"{} {} {} \\n{}\\n\".format(intro, min_word, hour_word, min_indv))\n",
    "\n",
    "while True:\n",
    "    \n",
    "    secs = time.time()\n",
    "    local = time.localtime(secs)\n",
    "\n",
    "    new_min_indv = cornerlights(local.tm_min)\n",
    "    new_min_word = word_minutes(local.tm_min)\n",
    "    new_hour_word = word_hours(local.tm_hour,local.tm_min)\n",
    "    \n",
    "    if min_indv != new_min_indv:\n",
    "        min_indv = new_min_indv\n",
    "\n",
    "        print(\"{} {} {} \\n{}\\n\".format(intro, new_min_word, new_hour_word, new_min_indv))\n"
   ]
  },
  {
   "cell_type": "code",
   "execution_count": null,
   "metadata": {},
   "outputs": [],
   "source": []
  },
  {
   "cell_type": "code",
   "execution_count": null,
   "metadata": {},
   "outputs": [],
   "source": []
  },
  {
   "cell_type": "code",
   "execution_count": null,
   "metadata": {},
   "outputs": [],
   "source": []
  },
  {
   "cell_type": "code",
   "execution_count": null,
   "metadata": {},
   "outputs": [],
   "source": []
  }
 ],
 "metadata": {
  "kernelspec": {
   "display_name": "Python 3",
   "language": "python",
   "name": "python3"
  },
  "language_info": {
   "codemirror_mode": {
    "name": "ipython",
    "version": 3
   },
   "file_extension": ".py",
   "mimetype": "text/x-python",
   "name": "python",
   "nbconvert_exporter": "python",
   "pygments_lexer": "ipython3",
   "version": "3.7.6"
  }
 },
 "nbformat": 4,
 "nbformat_minor": 4
}
